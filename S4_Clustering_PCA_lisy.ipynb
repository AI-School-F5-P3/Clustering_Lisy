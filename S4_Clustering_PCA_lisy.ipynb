{
  "cells": [
    {
      "cell_type": "markdown",
      "metadata": {
        "id": "C1EQ5G9rQcwE"
      },
      "source": [
        "# Clustering and PCA"
      ]
    },
    {
      "cell_type": "markdown",
      "metadata": {
        "id": "Toc_OzXYQcwH"
      },
      "source": [
        "### Mushroom Dataset\n",
        "\n",
        "Podeis obtener el conjunto de datos en el siguiente enlace:\n",
        "\n",
        "[Mushroom Dataset](https://www.kaggle.com/uciml/mushroom-classification)\n",
        "\n",
        "Como podréis comprobar, hay muchas variables, todas ellas categóricas, por lo que exploraciones con scatterplot no nos serán útiles como en otros casos.\n",
        "\n",
        "La variable a predecir ``class`` es binaria.\n"
      ]
    },
    {
      "cell_type": "markdown",
      "metadata": {
        "id": "BJc845c11KbK"
      },
      "source": []
    },
    {
      "cell_type": "code",
      "execution_count": 78,
      "metadata": {
        "id": "RWIOS2y_QcwH"
      },
      "outputs": [],
      "source": [
        "# Carga de librerías, las que hemos considerado básicas, añadid lo que queráis :)\n",
        "\n",
        "import pandas as pd\n",
        "import numpy as np\n",
        "import seaborn as sns\n",
        "from sklearn.cluster import KMeans\n",
        "import matplotlib.pyplot as plt\n",
        "from sklearn.model_selection import train_test_split\n",
        "from sklearn.decomposition import PCA"
      ]
    },
    {
      "cell_type": "markdown",
      "metadata": {
        "id": "7KbJPDrpQcwI"
      },
      "source": [
        "### Leer conjunto de datos y primer vistazo"
      ]
    },
    {
      "cell_type": "code",
      "execution_count": 79,
      "metadata": {
        "id": "zFJoAIsVQcwI",
        "scrolled": true
      },
      "outputs": [
        {
          "data": {
            "text/html": [
              "<div>\n",
              "<style scoped>\n",
              "    .dataframe tbody tr th:only-of-type {\n",
              "        vertical-align: middle;\n",
              "    }\n",
              "\n",
              "    .dataframe tbody tr th {\n",
              "        vertical-align: top;\n",
              "    }\n",
              "\n",
              "    .dataframe thead th {\n",
              "        text-align: right;\n",
              "    }\n",
              "</style>\n",
              "<table border=\"1\" class=\"dataframe\">\n",
              "  <thead>\n",
              "    <tr style=\"text-align: right;\">\n",
              "      <th></th>\n",
              "      <th>class</th>\n",
              "      <th>cap-shape</th>\n",
              "      <th>cap-surface</th>\n",
              "      <th>cap-color</th>\n",
              "      <th>bruises</th>\n",
              "      <th>odor</th>\n",
              "      <th>gill-attachment</th>\n",
              "      <th>gill-spacing</th>\n",
              "      <th>gill-size</th>\n",
              "      <th>gill-color</th>\n",
              "      <th>...</th>\n",
              "      <th>stalk-surface-below-ring</th>\n",
              "      <th>stalk-color-above-ring</th>\n",
              "      <th>stalk-color-below-ring</th>\n",
              "      <th>veil-type</th>\n",
              "      <th>veil-color</th>\n",
              "      <th>ring-number</th>\n",
              "      <th>ring-type</th>\n",
              "      <th>spore-print-color</th>\n",
              "      <th>population</th>\n",
              "      <th>habitat</th>\n",
              "    </tr>\n",
              "  </thead>\n",
              "  <tbody>\n",
              "    <tr>\n",
              "      <th>0</th>\n",
              "      <td>p</td>\n",
              "      <td>x</td>\n",
              "      <td>s</td>\n",
              "      <td>n</td>\n",
              "      <td>t</td>\n",
              "      <td>p</td>\n",
              "      <td>f</td>\n",
              "      <td>c</td>\n",
              "      <td>n</td>\n",
              "      <td>k</td>\n",
              "      <td>...</td>\n",
              "      <td>s</td>\n",
              "      <td>w</td>\n",
              "      <td>w</td>\n",
              "      <td>p</td>\n",
              "      <td>w</td>\n",
              "      <td>o</td>\n",
              "      <td>p</td>\n",
              "      <td>k</td>\n",
              "      <td>s</td>\n",
              "      <td>u</td>\n",
              "    </tr>\n",
              "    <tr>\n",
              "      <th>1</th>\n",
              "      <td>e</td>\n",
              "      <td>x</td>\n",
              "      <td>s</td>\n",
              "      <td>y</td>\n",
              "      <td>t</td>\n",
              "      <td>a</td>\n",
              "      <td>f</td>\n",
              "      <td>c</td>\n",
              "      <td>b</td>\n",
              "      <td>k</td>\n",
              "      <td>...</td>\n",
              "      <td>s</td>\n",
              "      <td>w</td>\n",
              "      <td>w</td>\n",
              "      <td>p</td>\n",
              "      <td>w</td>\n",
              "      <td>o</td>\n",
              "      <td>p</td>\n",
              "      <td>n</td>\n",
              "      <td>n</td>\n",
              "      <td>g</td>\n",
              "    </tr>\n",
              "    <tr>\n",
              "      <th>2</th>\n",
              "      <td>e</td>\n",
              "      <td>b</td>\n",
              "      <td>s</td>\n",
              "      <td>w</td>\n",
              "      <td>t</td>\n",
              "      <td>l</td>\n",
              "      <td>f</td>\n",
              "      <td>c</td>\n",
              "      <td>b</td>\n",
              "      <td>n</td>\n",
              "      <td>...</td>\n",
              "      <td>s</td>\n",
              "      <td>w</td>\n",
              "      <td>w</td>\n",
              "      <td>p</td>\n",
              "      <td>w</td>\n",
              "      <td>o</td>\n",
              "      <td>p</td>\n",
              "      <td>n</td>\n",
              "      <td>n</td>\n",
              "      <td>m</td>\n",
              "    </tr>\n",
              "    <tr>\n",
              "      <th>3</th>\n",
              "      <td>p</td>\n",
              "      <td>x</td>\n",
              "      <td>y</td>\n",
              "      <td>w</td>\n",
              "      <td>t</td>\n",
              "      <td>p</td>\n",
              "      <td>f</td>\n",
              "      <td>c</td>\n",
              "      <td>n</td>\n",
              "      <td>n</td>\n",
              "      <td>...</td>\n",
              "      <td>s</td>\n",
              "      <td>w</td>\n",
              "      <td>w</td>\n",
              "      <td>p</td>\n",
              "      <td>w</td>\n",
              "      <td>o</td>\n",
              "      <td>p</td>\n",
              "      <td>k</td>\n",
              "      <td>s</td>\n",
              "      <td>u</td>\n",
              "    </tr>\n",
              "    <tr>\n",
              "      <th>4</th>\n",
              "      <td>e</td>\n",
              "      <td>x</td>\n",
              "      <td>s</td>\n",
              "      <td>g</td>\n",
              "      <td>f</td>\n",
              "      <td>n</td>\n",
              "      <td>f</td>\n",
              "      <td>w</td>\n",
              "      <td>b</td>\n",
              "      <td>k</td>\n",
              "      <td>...</td>\n",
              "      <td>s</td>\n",
              "      <td>w</td>\n",
              "      <td>w</td>\n",
              "      <td>p</td>\n",
              "      <td>w</td>\n",
              "      <td>o</td>\n",
              "      <td>e</td>\n",
              "      <td>n</td>\n",
              "      <td>a</td>\n",
              "      <td>g</td>\n",
              "    </tr>\n",
              "  </tbody>\n",
              "</table>\n",
              "<p>5 rows × 23 columns</p>\n",
              "</div>"
            ],
            "text/plain": [
              "  class cap-shape cap-surface cap-color bruises odor gill-attachment  \\\n",
              "0     p         x           s         n       t    p               f   \n",
              "1     e         x           s         y       t    a               f   \n",
              "2     e         b           s         w       t    l               f   \n",
              "3     p         x           y         w       t    p               f   \n",
              "4     e         x           s         g       f    n               f   \n",
              "\n",
              "  gill-spacing gill-size gill-color  ... stalk-surface-below-ring  \\\n",
              "0            c         n          k  ...                        s   \n",
              "1            c         b          k  ...                        s   \n",
              "2            c         b          n  ...                        s   \n",
              "3            c         n          n  ...                        s   \n",
              "4            w         b          k  ...                        s   \n",
              "\n",
              "  stalk-color-above-ring stalk-color-below-ring veil-type veil-color  \\\n",
              "0                      w                      w         p          w   \n",
              "1                      w                      w         p          w   \n",
              "2                      w                      w         p          w   \n",
              "3                      w                      w         p          w   \n",
              "4                      w                      w         p          w   \n",
              "\n",
              "  ring-number ring-type spore-print-color population habitat  \n",
              "0           o         p                 k          s       u  \n",
              "1           o         p                 n          n       g  \n",
              "2           o         p                 n          n       m  \n",
              "3           o         p                 k          s       u  \n",
              "4           o         e                 n          a       g  \n",
              "\n",
              "[5 rows x 23 columns]"
            ]
          },
          "execution_count": 79,
          "metadata": {},
          "output_type": "execute_result"
        }
      ],
      "source": [
        "# Leer el csv y sacar por pantalla las cinco primeras filas.\n",
        "hongos = pd.read_csv(\"mushrooms.csv\")\n",
        "hongos.head(5)"
      ]
    },
    {
      "cell_type": "markdown",
      "metadata": {
        "id": "dePM9qXKQcwJ"
      },
      "source": [
        "### Exploración de datos"
      ]
    },
    {
      "cell_type": "code",
      "execution_count": 80,
      "metadata": {
        "id": "45TsUuwkQcwJ"
      },
      "outputs": [
        {
          "data": {
            "text/html": [
              "<div>\n",
              "<style scoped>\n",
              "    .dataframe tbody tr th:only-of-type {\n",
              "        vertical-align: middle;\n",
              "    }\n",
              "\n",
              "    .dataframe tbody tr th {\n",
              "        vertical-align: top;\n",
              "    }\n",
              "\n",
              "    .dataframe thead th {\n",
              "        text-align: right;\n",
              "    }\n",
              "</style>\n",
              "<table border=\"1\" class=\"dataframe\">\n",
              "  <thead>\n",
              "    <tr style=\"text-align: right;\">\n",
              "      <th></th>\n",
              "      <th>class</th>\n",
              "      <th>cap-shape</th>\n",
              "      <th>cap-surface</th>\n",
              "      <th>cap-color</th>\n",
              "      <th>bruises</th>\n",
              "      <th>odor</th>\n",
              "      <th>gill-attachment</th>\n",
              "      <th>gill-spacing</th>\n",
              "      <th>gill-size</th>\n",
              "      <th>gill-color</th>\n",
              "      <th>...</th>\n",
              "      <th>stalk-surface-below-ring</th>\n",
              "      <th>stalk-color-above-ring</th>\n",
              "      <th>stalk-color-below-ring</th>\n",
              "      <th>veil-type</th>\n",
              "      <th>veil-color</th>\n",
              "      <th>ring-number</th>\n",
              "      <th>ring-type</th>\n",
              "      <th>spore-print-color</th>\n",
              "      <th>population</th>\n",
              "      <th>habitat</th>\n",
              "    </tr>\n",
              "  </thead>\n",
              "  <tbody>\n",
              "    <tr>\n",
              "      <th>count</th>\n",
              "      <td>8124</td>\n",
              "      <td>8124</td>\n",
              "      <td>8124</td>\n",
              "      <td>8124</td>\n",
              "      <td>8124</td>\n",
              "      <td>8124</td>\n",
              "      <td>8124</td>\n",
              "      <td>8124</td>\n",
              "      <td>8124</td>\n",
              "      <td>8124</td>\n",
              "      <td>...</td>\n",
              "      <td>8124</td>\n",
              "      <td>8124</td>\n",
              "      <td>8124</td>\n",
              "      <td>8124</td>\n",
              "      <td>8124</td>\n",
              "      <td>8124</td>\n",
              "      <td>8124</td>\n",
              "      <td>8124</td>\n",
              "      <td>8124</td>\n",
              "      <td>8124</td>\n",
              "    </tr>\n",
              "    <tr>\n",
              "      <th>unique</th>\n",
              "      <td>2</td>\n",
              "      <td>6</td>\n",
              "      <td>4</td>\n",
              "      <td>10</td>\n",
              "      <td>2</td>\n",
              "      <td>9</td>\n",
              "      <td>2</td>\n",
              "      <td>2</td>\n",
              "      <td>2</td>\n",
              "      <td>12</td>\n",
              "      <td>...</td>\n",
              "      <td>4</td>\n",
              "      <td>9</td>\n",
              "      <td>9</td>\n",
              "      <td>1</td>\n",
              "      <td>4</td>\n",
              "      <td>3</td>\n",
              "      <td>5</td>\n",
              "      <td>9</td>\n",
              "      <td>6</td>\n",
              "      <td>7</td>\n",
              "    </tr>\n",
              "    <tr>\n",
              "      <th>top</th>\n",
              "      <td>e</td>\n",
              "      <td>x</td>\n",
              "      <td>y</td>\n",
              "      <td>n</td>\n",
              "      <td>f</td>\n",
              "      <td>n</td>\n",
              "      <td>f</td>\n",
              "      <td>c</td>\n",
              "      <td>b</td>\n",
              "      <td>b</td>\n",
              "      <td>...</td>\n",
              "      <td>s</td>\n",
              "      <td>w</td>\n",
              "      <td>w</td>\n",
              "      <td>p</td>\n",
              "      <td>w</td>\n",
              "      <td>o</td>\n",
              "      <td>p</td>\n",
              "      <td>w</td>\n",
              "      <td>v</td>\n",
              "      <td>d</td>\n",
              "    </tr>\n",
              "    <tr>\n",
              "      <th>freq</th>\n",
              "      <td>4208</td>\n",
              "      <td>3656</td>\n",
              "      <td>3244</td>\n",
              "      <td>2284</td>\n",
              "      <td>4748</td>\n",
              "      <td>3528</td>\n",
              "      <td>7914</td>\n",
              "      <td>6812</td>\n",
              "      <td>5612</td>\n",
              "      <td>1728</td>\n",
              "      <td>...</td>\n",
              "      <td>4936</td>\n",
              "      <td>4464</td>\n",
              "      <td>4384</td>\n",
              "      <td>8124</td>\n",
              "      <td>7924</td>\n",
              "      <td>7488</td>\n",
              "      <td>3968</td>\n",
              "      <td>2388</td>\n",
              "      <td>4040</td>\n",
              "      <td>3148</td>\n",
              "    </tr>\n",
              "  </tbody>\n",
              "</table>\n",
              "<p>4 rows × 23 columns</p>\n",
              "</div>"
            ],
            "text/plain": [
              "       class cap-shape cap-surface cap-color bruises  odor gill-attachment  \\\n",
              "count   8124      8124        8124      8124    8124  8124            8124   \n",
              "unique     2         6           4        10       2     9               2   \n",
              "top        e         x           y         n       f     n               f   \n",
              "freq    4208      3656        3244      2284    4748  3528            7914   \n",
              "\n",
              "       gill-spacing gill-size gill-color  ... stalk-surface-below-ring  \\\n",
              "count          8124      8124       8124  ...                     8124   \n",
              "unique            2         2         12  ...                        4   \n",
              "top               c         b          b  ...                        s   \n",
              "freq           6812      5612       1728  ...                     4936   \n",
              "\n",
              "       stalk-color-above-ring stalk-color-below-ring veil-type veil-color  \\\n",
              "count                    8124                   8124      8124       8124   \n",
              "unique                      9                      9         1          4   \n",
              "top                         w                      w         p          w   \n",
              "freq                     4464                   4384      8124       7924   \n",
              "\n",
              "       ring-number ring-type spore-print-color population habitat  \n",
              "count         8124      8124              8124       8124    8124  \n",
              "unique           3         5                 9          6       7  \n",
              "top              o         p                 w          v       d  \n",
              "freq          7488      3968              2388       4040    3148  \n",
              "\n",
              "[4 rows x 23 columns]"
            ]
          },
          "execution_count": 80,
          "metadata": {},
          "output_type": "execute_result"
        }
      ],
      "source": [
        "# Descripción del conjunto de datos, estándard.\n",
        "hongos.describe()\n"
      ]
    },
    {
      "cell_type": "markdown",
      "metadata": {},
      "source": [
        "*Nombre del conjunto de datos*:Hongos\n",
        "\n",
        "*Variables (o características)*: Este conjunto de datos contiene las siguientes caracteristicas. \n",
        "\n",
        "'class', 'cap-shape', 'cap-surface', 'cap-color', 'bruises', 'odor',\n",
        "'gill-attachment', 'gill-spacing', 'gill-size', 'gill-color',\n",
        "'stalk-shape', 'stalk-root', 'stalk-surface-above-ring',\n",
        "'stalk-surface-below-ring', 'stalk-color-above-ring',\n",
        "'stalk-color-below-ring', 'veil-type', 'veil-color', 'ring-number',\n",
        "'ring-type', 'spore-print-color', 'population', 'habitat'.\n",
        "\n",
        "Caracterìsticas en Español:\n",
        "\n",
        " 'clase', 'forma del sombrero', 'superficie del sombrero', 'color del sombrero', 'magulladuras', 'olor',\n",
        " 'unión de las láminas', 'espaciado de las láminas', 'tamaño de las láminas', 'color de las láminas',\n",
        " 'forma del tallo', 'raíz del tallo', 'superficie del tallo por encima del anillo',\n",
        " 'superficie del tallo por debajo del anillo', 'color del tallo por encima del anillo',\n",
        " 'color del tallo por debajo del anillo', 'tipo de velo', 'color del velo', 'número de anillos',\n",
        " 'tipo de anillo', 'color de la esporada', 'población', 'hábitat'\n",
        " \n",
        "*Tipo de dato*: caracterìsticas categoricas de los hongos.\n",
        "\n",
        "*Descripción de las variables*\n",
        "\n",
        "class:\n",
        "\n",
        "Descripción: Indica la clase del hongo.\n",
        "\n",
        "cap-shape (forma del sombrero):\n",
        "\n",
        "Descripción: Describe la forma del sombrero del hongo (la parte superior).\n",
        "\n",
        "cap-surface (superficie del sombrero):\n",
        "\n",
        "Descripción: Describe la textura o tipo de superficie del sombrero del hongo.\n",
        "\n",
        "\n",
        "cap-color (color del sombrero):\n",
        "\n",
        "Descripción: Color del sombrero del hongo. \n",
        "\n",
        "\n",
        "bruises (magulladuras):\n",
        "\n",
        "Descripción: Indica si el hongo muestra signos de magulladuras cuando se daña.\n",
        "\n",
        "odor (olor):\n",
        "\n",
        "Descripción: El olor del hongo.\n",
        "\n",
        "\n",
        "gill-attachment (unión de las láminas):\n",
        "Descripción: Cómo están unidas las láminas al tallo del hongo.\n",
        "\n",
        "\n",
        "gill-spacing (espaciado de las láminas):\n",
        "Descripción: Qué tan juntas o separadas están las láminas del hongo.\n",
        "\n",
        "\n",
        "gill-size (tamaño de las láminas):\n",
        "Descripción: Tamaño de las láminas.\n",
        "\n",
        "\n",
        "gill-color (color de las láminas):\n",
        "Descripción: Color de las láminas debajo del sombrero.\n",
        "\n",
        "\n",
        "stalk-shape (forma del tallo):\n",
        "Descripción: La forma del tallo del hongo.\n",
        "\n",
        "\n",
        "stalk-root (raíz del tallo):\n",
        "Descripción: La estructura o forma de la raíz del tallo.\n",
        "\n",
        "\n",
        "stalk-surface-above-ring (superficie del tallo por encima del anillo):\n",
        "Descripción: La textura de la superficie del tallo por encima del anillo.\n",
        "\n",
        "\n",
        "stalk-surface-below-ring (superficie del tallo por debajo del anillo):\n",
        "Descripción: Textura de la superficie del tallo debajo del anillo.\n",
        "\n",
        "\n",
        "stalk-color-above-ring (color del tallo por encima del anillo):\n",
        "Descripción: Color del tallo en la parte superior al anillo.\n",
        "\n",
        "\n",
        "stalk-color-below-ring (color del tallo por debajo del anillo):\n",
        "Descripción: Color del tallo en la parte inferior al anillo.\n",
        "\n",
        "\n",
        "veil-type (tipo de velo):\n",
        "Descripción: Tipo de velo del hongo, que cubre las láminas cuando el hongo es joven.\n",
        "\n",
        "\n",
        "veil-color (color del velo):\n",
        "Descripción: Color del velo.\n",
        "\n",
        "\n",
        "ring-number (número de anillos):\n",
        "Descripción: Cuántos anillos tiene el tallo del hongo.\n",
        "\n",
        "\n",
        "ring-type (tipo de anillo):\n",
        "Descripción: Describe el tipo de anillo presente en el tallo.\n",
        "\n",
        "\n",
        "spore-print-color (color de la esporada):\n",
        "Descripción: El color de la impresión de esporas del hongo (un factor importante en la identificación de hongos).\n",
        "\n",
        "\n",
        "population (población):\n",
        "Descripción: Describe la abundancia de hongos en un área determinada.\n",
        "\n",
        "\n",
        "habitat (hábitat):\n",
        "Descripción: El tipo de ambiente donde se encuentra el hongo.\n",
        "\n",
        "\n",
        "*Número de instancias*: El conjunto de datos se compone de 23 columnas y 5 filas.\n",
        "\n",
        "*Formato de los datos*: Los datos se importan en formato csv.\n",
        "\n",
        "*Valores faltantes o nulos*: No se detectaron valores faltante o nulos.\n",
        "\n",
        "*Distribución de los datos*: Estadísticas descriptivas como medias, medianas, moda, rangos, desviación estándar, etc.\n",
        "\n",
        "*Fuente del conjunto de datos*: https://www.kaggle.com/datasets .\n"
      ]
    },
    {
      "cell_type": "code",
      "execution_count": 81,
      "metadata": {},
      "outputs": [
        {
          "data": {
            "text/plain": [
              "(8124, 23)"
            ]
          },
          "execution_count": 81,
          "metadata": {},
          "output_type": "execute_result"
        }
      ],
      "source": [
        "hongos.shape\n"
      ]
    },
    {
      "cell_type": "code",
      "execution_count": 82,
      "metadata": {},
      "outputs": [
        {
          "data": {
            "text/plain": [
              "Index(['class', 'cap-shape', 'cap-surface', 'cap-color', 'bruises', 'odor',\n",
              "       'gill-attachment', 'gill-spacing', 'gill-size', 'gill-color',\n",
              "       'stalk-shape', 'stalk-root', 'stalk-surface-above-ring',\n",
              "       'stalk-surface-below-ring', 'stalk-color-above-ring',\n",
              "       'stalk-color-below-ring', 'veil-type', 'veil-color', 'ring-number',\n",
              "       'ring-type', 'spore-print-color', 'population', 'habitat'],\n",
              "      dtype='object')"
            ]
          },
          "execution_count": 82,
          "metadata": {},
          "output_type": "execute_result"
        }
      ],
      "source": [
        "hongos.columns\n"
      ]
    },
    {
      "cell_type": "code",
      "execution_count": 83,
      "metadata": {
        "id": "WJG-fxzJQcwJ"
      },
      "outputs": [
        {
          "name": "stdout",
          "output_type": "stream",
          "text": [
            "<class 'pandas.core.frame.DataFrame'>\n",
            "RangeIndex: 8124 entries, 0 to 8123\n",
            "Data columns (total 23 columns):\n",
            " #   Column                    Non-Null Count  Dtype \n",
            "---  ------                    --------------  ----- \n",
            " 0   class                     8124 non-null   object\n",
            " 1   cap-shape                 8124 non-null   object\n",
            " 2   cap-surface               8124 non-null   object\n",
            " 3   cap-color                 8124 non-null   object\n",
            " 4   bruises                   8124 non-null   object\n",
            " 5   odor                      8124 non-null   object\n",
            " 6   gill-attachment           8124 non-null   object\n",
            " 7   gill-spacing              8124 non-null   object\n",
            " 8   gill-size                 8124 non-null   object\n",
            " 9   gill-color                8124 non-null   object\n",
            " 10  stalk-shape               8124 non-null   object\n",
            " 11  stalk-root                8124 non-null   object\n",
            " 12  stalk-surface-above-ring  8124 non-null   object\n",
            " 13  stalk-surface-below-ring  8124 non-null   object\n",
            " 14  stalk-color-above-ring    8124 non-null   object\n",
            " 15  stalk-color-below-ring    8124 non-null   object\n",
            " 16  veil-type                 8124 non-null   object\n",
            " 17  veil-color                8124 non-null   object\n",
            " 18  ring-number               8124 non-null   object\n",
            " 19  ring-type                 8124 non-null   object\n",
            " 20  spore-print-color         8124 non-null   object\n",
            " 21  population                8124 non-null   object\n",
            " 22  habitat                   8124 non-null   object\n",
            "dtypes: object(23)\n",
            "memory usage: 1.4+ MB\n"
          ]
        }
      ],
      "source": [
        "# Información sobre el tipo de datos de cada feature.\n",
        "hongos.info()"
      ]
    },
    {
      "cell_type": "markdown",
      "metadata": {
        "id": "Md7i8gXBQcwJ"
      },
      "source": [
        "#### Calcular el número de nulos de cada feature"
      ]
    },
    {
      "cell_type": "code",
      "execution_count": 84,
      "metadata": {
        "id": "8xXz4mT0QcwJ",
        "scrolled": false
      },
      "outputs": [
        {
          "data": {
            "text/plain": [
              "class                       0\n",
              "cap-shape                   0\n",
              "cap-surface                 0\n",
              "cap-color                   0\n",
              "bruises                     0\n",
              "odor                        0\n",
              "gill-attachment             0\n",
              "gill-spacing                0\n",
              "gill-size                   0\n",
              "gill-color                  0\n",
              "stalk-shape                 0\n",
              "stalk-root                  0\n",
              "stalk-surface-above-ring    0\n",
              "stalk-surface-below-ring    0\n",
              "stalk-color-above-ring      0\n",
              "stalk-color-below-ring      0\n",
              "veil-type                   0\n",
              "veil-color                  0\n",
              "ring-number                 0\n",
              "ring-type                   0\n",
              "spore-print-color           0\n",
              "population                  0\n",
              "habitat                     0\n",
              "dtype: int64"
            ]
          },
          "execution_count": 84,
          "metadata": {},
          "output_type": "execute_result"
        }
      ],
      "source": [
        "# Igual que otras veces, una linea, contar los nulos por variable.\n",
        "hongos.isnull().sum()"
      ]
    },
    {
      "cell_type": "markdown",
      "metadata": {
        "id": "MJv-ez3WQcwK"
      },
      "source": [
        "#### Buscar valores extraños. Para ello, ver los valores únicos en cada feature"
      ]
    },
    {
      "cell_type": "code",
      "execution_count": 85,
      "metadata": {
        "id": "fUZ2EHmTQcwK"
      },
      "outputs": [
        {
          "data": {
            "text/html": [
              "<div>\n",
              "<style scoped>\n",
              "    .dataframe tbody tr th:only-of-type {\n",
              "        vertical-align: middle;\n",
              "    }\n",
              "\n",
              "    .dataframe tbody tr th {\n",
              "        vertical-align: top;\n",
              "    }\n",
              "\n",
              "    .dataframe thead th {\n",
              "        text-align: right;\n",
              "    }\n",
              "</style>\n",
              "<table border=\"1\" class=\"dataframe\">\n",
              "  <thead>\n",
              "    <tr style=\"text-align: right;\">\n",
              "      <th></th>\n",
              "      <th>features</th>\n",
              "      <th>n_values</th>\n",
              "    </tr>\n",
              "  </thead>\n",
              "  <tbody>\n",
              "    <tr>\n",
              "      <th>0</th>\n",
              "      <td>class</td>\n",
              "      <td>2</td>\n",
              "    </tr>\n",
              "    <tr>\n",
              "      <th>1</th>\n",
              "      <td>cap-shape</td>\n",
              "      <td>6</td>\n",
              "    </tr>\n",
              "    <tr>\n",
              "      <th>2</th>\n",
              "      <td>cap-surface</td>\n",
              "      <td>4</td>\n",
              "    </tr>\n",
              "    <tr>\n",
              "      <th>3</th>\n",
              "      <td>cap-color</td>\n",
              "      <td>10</td>\n",
              "    </tr>\n",
              "    <tr>\n",
              "      <th>4</th>\n",
              "      <td>bruises</td>\n",
              "      <td>2</td>\n",
              "    </tr>\n",
              "    <tr>\n",
              "      <th>5</th>\n",
              "      <td>odor</td>\n",
              "      <td>9</td>\n",
              "    </tr>\n",
              "    <tr>\n",
              "      <th>6</th>\n",
              "      <td>gill-attachment</td>\n",
              "      <td>2</td>\n",
              "    </tr>\n",
              "    <tr>\n",
              "      <th>7</th>\n",
              "      <td>gill-spacing</td>\n",
              "      <td>2</td>\n",
              "    </tr>\n",
              "    <tr>\n",
              "      <th>8</th>\n",
              "      <td>gill-size</td>\n",
              "      <td>2</td>\n",
              "    </tr>\n",
              "    <tr>\n",
              "      <th>9</th>\n",
              "      <td>gill-color</td>\n",
              "      <td>12</td>\n",
              "    </tr>\n",
              "    <tr>\n",
              "      <th>10</th>\n",
              "      <td>stalk-shape</td>\n",
              "      <td>2</td>\n",
              "    </tr>\n",
              "    <tr>\n",
              "      <th>11</th>\n",
              "      <td>stalk-root</td>\n",
              "      <td>5</td>\n",
              "    </tr>\n",
              "    <tr>\n",
              "      <th>12</th>\n",
              "      <td>stalk-surface-above-ring</td>\n",
              "      <td>4</td>\n",
              "    </tr>\n",
              "    <tr>\n",
              "      <th>13</th>\n",
              "      <td>stalk-surface-below-ring</td>\n",
              "      <td>4</td>\n",
              "    </tr>\n",
              "    <tr>\n",
              "      <th>14</th>\n",
              "      <td>stalk-color-above-ring</td>\n",
              "      <td>9</td>\n",
              "    </tr>\n",
              "    <tr>\n",
              "      <th>15</th>\n",
              "      <td>stalk-color-below-ring</td>\n",
              "      <td>9</td>\n",
              "    </tr>\n",
              "    <tr>\n",
              "      <th>16</th>\n",
              "      <td>veil-type</td>\n",
              "      <td>1</td>\n",
              "    </tr>\n",
              "    <tr>\n",
              "      <th>17</th>\n",
              "      <td>veil-color</td>\n",
              "      <td>4</td>\n",
              "    </tr>\n",
              "    <tr>\n",
              "      <th>18</th>\n",
              "      <td>ring-number</td>\n",
              "      <td>3</td>\n",
              "    </tr>\n",
              "    <tr>\n",
              "      <th>19</th>\n",
              "      <td>ring-type</td>\n",
              "      <td>5</td>\n",
              "    </tr>\n",
              "    <tr>\n",
              "      <th>20</th>\n",
              "      <td>spore-print-color</td>\n",
              "      <td>9</td>\n",
              "    </tr>\n",
              "    <tr>\n",
              "      <th>21</th>\n",
              "      <td>population</td>\n",
              "      <td>6</td>\n",
              "    </tr>\n",
              "    <tr>\n",
              "      <th>22</th>\n",
              "      <td>habitat</td>\n",
              "      <td>7</td>\n",
              "    </tr>\n",
              "  </tbody>\n",
              "</table>\n",
              "</div>"
            ],
            "text/plain": [
              "                    features  n_values\n",
              "0                      class         2\n",
              "1                  cap-shape         6\n",
              "2                cap-surface         4\n",
              "3                  cap-color        10\n",
              "4                    bruises         2\n",
              "5                       odor         9\n",
              "6            gill-attachment         2\n",
              "7               gill-spacing         2\n",
              "8                  gill-size         2\n",
              "9                 gill-color        12\n",
              "10               stalk-shape         2\n",
              "11                stalk-root         5\n",
              "12  stalk-surface-above-ring         4\n",
              "13  stalk-surface-below-ring         4\n",
              "14    stalk-color-above-ring         9\n",
              "15    stalk-color-below-ring         9\n",
              "16                 veil-type         1\n",
              "17                veil-color         4\n",
              "18               ring-number         3\n",
              "19                 ring-type         5\n",
              "20         spore-print-color         9\n",
              "21                population         6\n",
              "22                   habitat         7"
            ]
          },
          "execution_count": 85,
          "metadata": {},
          "output_type": "execute_result"
        }
      ],
      "source": [
        "# Obtener un nuevo dataframe de dos columnas donde en la primera estén las features (features) y en la otra los valores únicos\n",
        "# asociados (n_values).\n",
        "nuevo_hongos = pd.DataFrame({\n",
        "    'features': hongos.columns,\n",
        "    'n_values': hongos.nunique().values\n",
        "})\n",
        "nuevo_hongos"
      ]
    },
    {
      "cell_type": "markdown",
      "metadata": {
        "id": "YXIyz_tdQcwK"
      },
      "source": [
        "#### Tratar aquellos valores que entendamos que sean nulos\n"
      ]
    },
    {
      "cell_type": "code",
      "execution_count": 86,
      "metadata": {
        "id": "OVQnxK1gQcwK"
      },
      "outputs": [],
      "source": [
        "# Imputaciones. Podéis quitar esos puntos (fila entera), imputar con la moda o dejar ese valor como una posibilidad más."
      ]
    },
    {
      "cell_type": "markdown",
      "metadata": {
        "id": "8dbmx1Z7QcwK"
      },
      "source": [
        "#### Mirad cuántos valores hay en cada feature, ¿Todas las features aportan información? Si alguna no aporta información, eliminadla"
      ]
    },
    {
      "cell_type": "code",
      "execution_count": 87,
      "metadata": {
        "id": "ts2xeUavQcwK"
      },
      "outputs": [],
      "source": [
        "# Dejar por el camino si procede.\n",
        "#se elimina esta carcteristica proque solo la posee un hongo\n",
        "hongos.drop(columns=['veil-type'],axis=1, inplace=True)\n"
      ]
    },
    {
      "cell_type": "markdown",
      "metadata": {},
      "source": [
        "#### Separar entre variables predictoras y variables a predecir"
      ]
    },
    {
      "cell_type": "code",
      "execution_count": 88,
      "metadata": {},
      "outputs": [],
      "source": [
        "#la variable que trata de predecir este conjunto de datos es 'class'.\n",
        "\n",
        "y = hongos['class'].map({'e': 1, 'p': 0})\n",
        "X = hongos.drop(\"class\", axis = 1)\n"
      ]
    },
    {
      "cell_type": "markdown",
      "metadata": {
        "id": "sN1fZZfZQcwL"
      },
      "source": [
        "#### Codificar correctamente las variables categóricas a numéricas"
      ]
    },
    {
      "cell_type": "code",
      "execution_count": 89,
      "metadata": {},
      "outputs": [],
      "source": [
        "from sklearn.preprocessing import OneHotEncoder\n",
        "encoder = OneHotEncoder(drop='first', sparse_output=False)\n",
        "X_encoded = encoder.fit_transform(X)"
      ]
    },
    {
      "cell_type": "markdown",
      "metadata": {
        "id": "RBBAM0bzQcwL"
      },
      "source": [
        "#### Train test split"
      ]
    },
    {
      "cell_type": "code",
      "execution_count": 90,
      "metadata": {
        "id": "hHxqeJQqQcwL"
      },
      "outputs": [],
      "source": [
        "# Os lo dejamos a todos igual\n",
        "X_encoded = encoder.fit_transform(X)\n",
        "\n",
        "from sklearn.model_selection import train_test_split\n",
        "X_train, X_test, y_train, y_test = train_test_split(X, y, test_size=0.33, random_state=42)"
      ]
    },
    {
      "cell_type": "markdown",
      "metadata": {
        "id": "3sL57bzCQcwL"
      },
      "source": [
        "## PCA"
      ]
    },
    {
      "cell_type": "markdown",
      "metadata": {
        "id": "uhAhJqbKQcwM"
      },
      "source": [
        "Es un conjunto de datos del que aún no hemos visto nada (no tenemos graficas) así que vamos a hacer algunas. Tenemos el problema de que son muchas variables, **PCA al rescate**: le pedimos que nos de dos dimensiones y las pintamos, sabemos que serán **aquellas que retengan más información**."
      ]
    },
    {
      "cell_type": "code",
      "execution_count": 91,
      "metadata": {},
      "outputs": [
        {
          "ename": "IndexError",
          "evalue": "boolean index did not match indexed array along axis 0; size of axis is 8124 but size of corresponding boolean axis is 5443",
          "output_type": "error",
          "traceback": [
            "\u001b[1;31m---------------------------------------------------------------------------\u001b[0m",
            "\u001b[1;31mIndexError\u001b[0m                                Traceback (most recent call last)",
            "Cell \u001b[1;32mIn[91], line 9\u001b[0m\n\u001b[0;32m      7\u001b[0m \u001b[38;5;66;03m#Gràfico\u001b[39;00m\n\u001b[0;32m      8\u001b[0m \u001b[38;5;28;01mfor\u001b[39;00m label \u001b[38;5;129;01min\u001b[39;00m np\u001b[38;5;241m.\u001b[39munique(y):\n\u001b[1;32m----> 9\u001b[0m      plt\u001b[38;5;241m.\u001b[39mscatter(\u001b[43mX_pca\u001b[49m\u001b[43m[\u001b[49m\u001b[43my_train\u001b[49m\u001b[43m \u001b[49m\u001b[38;5;241;43m==\u001b[39;49m\u001b[43m \u001b[49m\u001b[43mlabel\u001b[49m\u001b[43m,\u001b[49m\u001b[43m \u001b[49m\u001b[38;5;241;43m0\u001b[39;49m\u001b[43m]\u001b[49m, X_pca[y_train \u001b[38;5;241m==\u001b[39m label, \u001b[38;5;241m1\u001b[39m],\n\u001b[0;32m     10\u001b[0m                 label\u001b[38;5;241m=\u001b[39mclass_y[label], color\u001b[38;5;241m=\u001b[39mcolores[label], alpha\u001b[38;5;241m=\u001b[39m\u001b[38;5;241m0.5\u001b[39m)\n\u001b[0;32m     11\u001b[0m plt\u001b[38;5;241m.\u001b[39mtitle(\u001b[38;5;124m'\u001b[39m\u001b[38;5;124mPCA Scatterplot\u001b[39m\u001b[38;5;124m'\u001b[39m)\n\u001b[0;32m     12\u001b[0m plt\u001b[38;5;241m.\u001b[39mxlabel(\u001b[38;5;124m'\u001b[39m\u001b[38;5;124mComponente Principal 1\u001b[39m\u001b[38;5;124m'\u001b[39m)\n",
            "\u001b[1;31mIndexError\u001b[0m: boolean index did not match indexed array along axis 0; size of axis is 8124 but size of corresponding boolean axis is 5443"
          ]
        },
        {
          "data": {
            "text/plain": [
              "<Figure size 800x600 with 0 Axes>"
            ]
          },
          "metadata": {},
          "output_type": "display_data"
        }
      ],
      "source": [
        "pca = PCA(n_components=2)\n",
        "X_pca = pca.fit_transform(X_train)\n",
        "# Representar en un scatterplot y poner en color las etiquetas de entrenamiento\n",
        "plt.figure(figsize=(8, 6))\n",
        "colores = {0: 'red', 1: 'green'}\n",
        "class_y = {0: 'p', 1: 'e'} \n",
        "#Gràfico\n",
        "for label in np.unique(y_train):\n",
        "    plt.scatter(X_pca[y_train == label, 0], X_pca[y_train == label, 1],\n",
        "                label=class_y[label], color=colores[label], alpha=0.5)\n",
        "\n",
        "plt.title('PCA Scatterplot')\n",
        "plt.xlabel('Componente Principal 1')\n",
        "plt.ylabel('Componente Principal 2')\n",
        "plt.legend()\n",
        "plt.grid()\n",
        "plt.show()"
      ]
    },
    {
      "cell_type": "markdown",
      "metadata": {
        "id": "DMYH_Hv0QcwM"
      },
      "source": [
        "Parece que está bastante separadito, parece que a ojo mucho se puede ver :)"
      ]
    },
    {
      "cell_type": "markdown",
      "metadata": {
        "id": "QdE0AvlKQcwM"
      },
      "source": [
        "Igualmente, vamos a entrenar un clasificador a ver qué tal lo hace antes de editar más"
      ]
    },
    {
      "cell_type": "code",
      "execution_count": null,
      "metadata": {
        "id": "eKQqz_EPQcwM"
      },
      "outputs": [],
      "source": [
        "from sklearn.ensemble import RandomForestClassifier\n",
        "\n",
        "# 1. Definir el clasificador y el número de estimadores\n",
        "\n",
        "# 2. Entrenar en train\n",
        "\n",
        "# 3. Calcular la precisión sobre test"
      ]
    },
    {
      "cell_type": "markdown",
      "metadata": {
        "id": "PACQlU5_QcwM"
      },
      "source": [
        "Es un conjunto sencillo y Random Forest es muy bueno en su trabajo, Igualmente, vamos a ver qué tamaño tenemos de dataset:\n"
      ]
    },
    {
      "cell_type": "code",
      "execution_count": null,
      "metadata": {
        "id": "ODibK0D2QcwN"
      },
      "outputs": [],
      "source": [
        "X_train.shape"
      ]
    },
    {
      "cell_type": "markdown",
      "metadata": {
        "id": "_rEVhvRaQcwN"
      },
      "source": [
        "¿Muchas features no? Vamos a reducir las usando PCA."
      ]
    },
    {
      "cell_type": "code",
      "execution_count": null,
      "metadata": {
        "id": "kEJPZw_cQcwN",
        "scrolled": true
      },
      "outputs": [],
      "source": [
        "n_features = # definir un rango de valores a probar\n",
        "scores = []\n",
        "\n",
        "for n in n_features:\n",
        "\n",
        "    # Hacer PCA sobre X_train\n",
        "    # 1. Definir PCA\n",
        "    # 2. Aprender PCA sobre X_train\n",
        "\n",
        "    # Entrenar Random Forest\n",
        "    # 1. Definir el RF\n",
        "    # 2. Entrenar clasificador\n",
        "\n",
        "    # Guardar el score\n",
        "\n",
        "\n",
        "sns.lineplot(x=n_features, y=scores)\n"
      ]
    },
    {
      "cell_type": "markdown",
      "metadata": {
        "id": "dKjl6aHiQcwN"
      },
      "source": [
        "Vale, estamos viendo que a partir de unas 10 features ya tenemos el score que queríamos y además hemos reducido las variables a un 10% de las que teníamos, incluso menos que las variables originales."
      ]
    },
    {
      "cell_type": "markdown",
      "metadata": {
        "id": "2Jvqa-leQcwN"
      },
      "source": [
        "## Clustering"
      ]
    },
    {
      "cell_type": "markdown",
      "metadata": {
        "id": "VWiMHKUdQcwN"
      },
      "source": [
        "Viendo que el conjunto de datos es sencillito, podemos intentar hacer algo de clustering a ver qué información podemos obtener.\n",
        "\n",
        "El primer paso va a ser importar la función de Kmeans de sklearn, y a partir de ahi, vamos a buscar el valor óptimo de clusters. Como hemos visto anteriormente, este valor lo obtenemos, por ejemplo, del codo de la gráfica que representa el total de las distancias de los puntos a los centros de los clusters asociados. Os dejo la página de la documentación de sklearn para que lo busquéis:\n",
        "\n",
        "[K-Means on sklearn](https://scikit-learn.org/stable/modules/generated/sklearn.cluster.KMeans.html)\n",
        "\n",
        "Con esto solo hay que ahora generar los modelos de kmeans, evaluar y pintar la gráfica para los valores de ``k`` que establezcais.\n",
        "\n",
        "\n"
      ]
    },
    {
      "cell_type": "code",
      "execution_count": null,
      "metadata": {
        "id": "DV0IXFncQcwO"
      },
      "outputs": [],
      "source": [
        "from sklearn.cluster import KMeans\n",
        "\n",
        "scores = []\n",
        "k_values = # definir un rango\n",
        "for a in k_values:\n",
        "\n",
        "    # Definir Kmeans y ajustar\n",
        "    # Guardar la predicción\n",
        "\n",
        "sns.lineplot(x=k_values, y=scores)"
      ]
    },
    {
      "cell_type": "markdown",
      "metadata": {
        "id": "OSgPG286QcwO"
      },
      "source": [
        "Con el valor que hayáis obtenido de la gráfica, podéis obtener una buena aproximación de Kmeans y con ello podemos pasar a explorar cómo de bien han separado la información los distintos clusters. Para ello, se va a hacer un ``catplot``, seaborn os lo hará solito. Con esto lo que se pretende ver es la distribución de la varaible a predecir en función del cluster que haya determinado Kmeans."
      ]
    },
    {
      "cell_type": "code",
      "execution_count": null,
      "metadata": {
        "id": "Wa7XfETyQcwO",
        "scrolled": false
      },
      "outputs": [],
      "source": [
        "# Aprender Kmeans con el valor de K obtenido.\n",
        "\n",
        "kmeans = # Definir y entrenar Kmeans.\n",
        "\n",
        "# Preparar el catplot.\n",
        "\n",
        "\n",
        "# Pintar.\n",
        "ax = sns.catplot(col=, x=, data=, kind='count',col_wrap=4)"
      ]
    },
    {
      "cell_type": "markdown",
      "metadata": {
        "id": "JzMUKFwzQcwO"
      },
      "source": [
        "Vamos a ver qué tal queda esto pintado. Para ello, repetimos el scatterplot de antes pero usando como color el cluster asignado por kmeans."
      ]
    },
    {
      "cell_type": "code",
      "execution_count": null,
      "metadata": {
        "id": "IjhjuexcQcwO",
        "scrolled": true
      },
      "outputs": [],
      "source": [
        "# Entrenar PCA para representar.\n",
        "\n",
        "# Usar un color por cada cluster.\n"
      ]
    },
    {
      "cell_type": "markdown",
      "metadata": {
        "id": "v0q-ZDhQQcwO"
      },
      "source": [
        "¿Es bastante parecido no? No es tan bueno como el Random Forest, pero ha conseguido identificar bastante bien los distintos puntos del dataset sin utilizar las etiquetas. De hecho, el diagrama de factor que hemos visto antes muestra que solo un par de clusters son imprecisos. Si no hubieramos tenido etiquetas esta aproximacion nos hubiera ayudado mucho a clasificar los distintos tipos de hongos."
      ]
    }
  ],
  "metadata": {
    "colab": {
      "provenance": []
    },
    "kernelspec": {
      "display_name": "Python 3",
      "language": "python",
      "name": "python3"
    },
    "language_info": {
      "codemirror_mode": {
        "name": "ipython",
        "version": 3
      },
      "file_extension": ".py",
      "mimetype": "text/x-python",
      "name": "python",
      "nbconvert_exporter": "python",
      "pygments_lexer": "ipython3",
      "version": "3.12.5"
    }
  },
  "nbformat": 4,
  "nbformat_minor": 0
}
